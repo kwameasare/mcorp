{
  "nbformat": 4,
  "nbformat_minor": 0,
  "metadata": {
    "colab": {
      "name": "Copy of blank_swift.ipynb",
      "provenance": [],
      "collapsed_sections": [],
      "include_colab_link": true
    },
    "kernelspec": {
      "name": "swift",
      "display_name": "Swift"
    }
  },
  "cells": [
    {
      "cell_type": "markdown",
      "metadata": {
        "id": "view-in-github",
        "colab_type": "text"
      },
      "source": [
        "<a href=\"https://colab.research.google.com/github/kwameasare/mcorp/blob/master/swift_bbvi.ipynb\" target=\"_parent\"><img src=\"https://colab.research.google.com/assets/colab-badge.svg\" alt=\"Open In Colab\"/></a>"
      ]
    },
    {
      "cell_type": "code",
      "metadata": {
        "id": "kZRlD4utdPuX",
        "colab_type": "code",
        "outputId": "4b42a890-69f0-4498-b4b6-470d81d52c71",
        "colab": {
          "base_uri": "https://localhost:8080/",
          "height": 238
        }
      },
      "source": [
        "import Python\n",
        "let np = Python.import(\"numpy\")\n",
        "let sps = Python.import(\"scipy.special\")\n",
        "let plt = Python.import(\"matplotlib.pyplot\")\n",
        "let tf = Python.import(\"tensorflow\")\n",
        "// import tensorflow_probability\n",
        "\n",
        "// let shape : Double = 2.0;\n",
        "// let scale : Double = 2.0;\n",
        "// let s = np.random.gamma(shape, scale, 2)\n",
        "\n",
        "//  print(s)\n",
        "\n",
        "//  func say_my_name(_name : String) -> String {\n",
        "//    return _name\n",
        "//  }\n",
        "\n",
        "//  print(say_my_name(_name: \"First Program\"))\n",
        "let sampleSize = [256, 32000]\n",
        "let bag_of_words = np.random.poisson(5, sampleSize) \n",
        "let data_size = sampleSize[0]\n",
        "let feature_size = sampleSize[1]\n",
        "let units  = [100, 30, 15] \n",
        "let shape : PythonObject = 0.1 \n",
        "// let w2 = np.random.gamma(0.1, 0.3, [units[2], units[1]])\n",
        "// let z2 = np.random.gamma(0.1, 0.1, [data_size, units[2]])\n",
        "// let mat  = tf.matmul(z2, w2)\n",
        "let w2 = np.random.gamma(0.1, 0.3, [units[2], units[1]])\n",
        "let w1 = np.random.gamma(0.1, 0.3, [units[1], units[0]])\n",
        "let w0 = np.random.gamma(0.1, 0.3, [units[0], feature_size])\n",
        "\n",
        "let z2 = np.random.gamma(0.1, 0.1, [data_size, units[2]])\n",
        "// let z1 = np.random.gamma(shape, shape / tf.matmul(z2, w2) )\n",
        "\n",
        "// let z0 = np.random.gamma(shape, shape / tf.matmul(z1, w1))\n",
        "// let x = np.random.gamma(0.1, tf.matmul(z0, w0))\n",
        "\n",
        "print(z2)\n",
        "\n"
      ],
      "execution_count": 21,
      "outputs": [
        {
          "output_type": "stream",
          "text": [
            "[[6.16105773e-02 8.73738084e-04 1.09193535e-16 ... 7.79417250e-03\r\n",
            "  3.46916562e-05 4.77342472e-12]\r\n",
            " [1.77104259e-10 6.50007391e-07 8.97448657e-05 ... 2.15791217e-14\r\n",
            "  4.37485368e-02 2.88696309e-02]\r\n",
            " [6.55539207e-03 1.18037070e-20 4.75178807e-22 ... 3.73076685e-04\r\n",
            "  7.46692719e-02 8.66658762e-12]\r\n",
            " ...\r\n",
            " [1.10380174e-07 8.98632480e-06 5.34102815e-04 ... 3.73373215e-04\r\n",
            "  7.53603627e-07 9.87956599e-07]\r\n",
            " [3.83645876e-06 1.97070529e-03 1.03758706e-02 ... 3.56890452e-03\r\n",
            "  5.80113241e-06 1.60708781e-18]\r\n",
            " [1.55132857e-08 7.71051070e-02 3.32596559e-02 ... 8.92438045e-06\r\n",
            "  5.31602470e-03 2.29700753e-14]]\r\n"
          ],
          "name": "stdout"
        }
      ]
    },
    {
      "cell_type": "code",
      "metadata": {
        "id": "58ek-pGoiMuW",
        "colab_type": "code",
        "outputId": "5d474b53-d15c-48d4-8381-936989558078",
        "colab": {
          "base_uri": "https://localhost:8080/",
          "height": 1000
        }
      },
      "source": [
        "// Deep_exponential function\n",
        "\n",
        "func deep_exponential_family( feature_size:Double, data_size: Double, units: [Double] = [], shape: Float) {\n",
        "  // defining weights as W and Z as hidden layers\n",
        "\n",
        "\n",
        "  //units describe the input shape to the output shape in the []\n",
        "  //for example \n",
        "  // units = [1, 2, 3] or units =[3, 2, 1]\n",
        "\n",
        "  let w2 = np.random.gamma(0.1, 0.3 , [units[2], units[1]] )\n",
        "  let w1 = np.random.gamma(0.1, 0.3, [units[1], units[0]] )\n",
        "  let w0 = np.random.gamma(0.1, 0.3, [ units[0], feature_size])\n",
        "\n",
        "  let z2 = np.random.gamma(0.1, 0.1, [data_size, units[2]])\n",
        "  \n",
        "\n",
        "  let py_conv = np.matmul(z2, w2);\n",
        "  let int = Float(py_conv)!\n",
        "  let z1 = np.random.gamma(shape, shape/int);\n",
        "  // let z0 = np.random.gamma(shape, shape/np.matmul(z1, w1))\n",
        "\n",
        "  // x = np.random.poisson(np.matmul(z0, w0))\n",
        "\n",
        "  print(w2)\n",
        " \n",
        "}\n",
        "\n",
        "\n",
        "\n",
        "\n",
        "\n",
        "let x = deep_exponential_family( feature_size : 10, data_size :10, units : [1, 2, 3] , shape : 10.0 )\n",
        "\n"
      ],
      "execution_count": 24,
      "outputs": [
        {
          "output_type": "stream",
          "text": [
            "Fatal error: 'try!' expression unexpectedly raised an error: Python exception: 'float' object cannot be interpreted as an integer\r\n",
            "Traceback:\r\n",
            "  File \"mtrand.pyx\", line 1489, in numpy.random.mtrand.RandomState.gamma\r\n",
            "  File \"common.pyx\", line 557, in numpy.random.common.cont\r\n",
            ": file /swift-base/swift/stdlib/public/Python/Python.swift, line 606\r\n",
            "Current stack trace:\r\n",
            "0    libswiftCore.so                    0x00007f2eb6245cb0 swift_reportError + 50\r\n",
            "1    libswiftCore.so                    0x00007f2eb62b75f0 _swift_stdlib_reportFatalErrorInFile + 115\r\n",
            "2    libswiftCore.so                    0x00007f2eb5fb7e1e <unavailable> + 1478174\r\n",
            "3    libswiftCore.so                    0x00007f2eb5fb7a27 <unavailable> + 1477159\r\n",
            "4    libswiftCore.so                    0x00007f2eb5fb8008 <unavailable> + 1478664\r\n",
            "5    libswiftCore.so                    0x00007f2eb5fb62c0 _assertionFailure(_:_:file:line:flags:) + 517\r\n",
            "6    libswiftCore.so                    0x00007f2eb5fe28a6 <unavailable> + 1652902\r\n",
            "7    libswiftPython.so                  0x00007f2eb7da37cb <unavailable> + 79819\r\n",
            "10   repl_swift                         0x0000000000400480 <unavailable> + 1152\r\n",
            "11   libswiftCore.so                    0x00007f2eb62d1f3b <unavailable> + 4730683\r\n",
            "12   libswiftCore.so                    0x00007f2eb5fe28a6 <unavailable> + 1652902\r\n",
            "13   libswiftPython.so                  0x00007f2eb7da37cb <unavailable> + 79819\r\n",
            "16   repl_swift                         0x0000000000400480 <unavailable> + 1152\r\n",
            "17   libswiftCore.so                    0x00007f2eb62d1f3b <unavailable> + 4730683\r\n",
            "18   libswiftCore.so                    0x00007f2eb5fe28a6 <unavailable> + 1652902\r\n",
            "19   libswiftPython.so                  0x00007f2eb7da37cb <unavailable> + 79819\r\n",
            "21   repl_swift                         0x0000000000400480 <unavailable> + 1152\r\n",
            "23   libswiftCore.so                    0x00007f2eb5fe28a6 <unavailable> + 1652902\r\n",
            "24   libswiftPython.so                  0x00007f2eb7da37cb <unavailable> + 79819\r\n",
            "26   repl_swift                         0x0000000000400480 <unavailable> + 1152\r\n",
            "28   libswiftCore.so                    0x00007f2eb5fe28a6 <unavailable> + 1652902\r\n",
            "29   libswiftPython.so                  0x00007f2eb7da37cb <unavailable> + 79819\r\n",
            "31   repl_swift                         0x0000000000400480 <unavailable> + 1152\r\n",
            "33   libswiftCore.so                    0x00007f2eb5fe28a6 <unavailable> + 1652902\r\n",
            "34   libswiftPython.so                  0x00007f2eb7da37cb <unavailable> + 79819\r\n",
            "36   repl_swift                         0x0000000000400480 <unavailable> + 1152\r\n",
            "38   libswiftCore.so                    0x00007f2eb5fe28a6 <unavailable> + 1652902\r\n",
            "39   libswiftPython.so                  0x00007f2eb7da37cb <unavailable> + 79819\r\n",
            "41   repl_swift                         0x0000000000400480 <unavailable> + 1152\r\n",
            "43   libswiftCore.so                    0x00007f2eb5fe28a6 <unavailable> + 1652902\r\n",
            "44   libswiftPython.so                  0x00007f2eb7da37cb <unavailable> + 79819\r\n",
            "46   repl_swift                         0x0000000000400480 <unavailable> + 1152\r\n",
            "48   libswiftCore.so                    0x00007f2eb5fe28a6 <unavailable> + 1652902\r\n",
            "49   libswiftPython.so                  0x00007f2eb7da37cb <unavailable> + 79819\r\n",
            "51   repl_swift                         0x0000000000400480 <unavailable> + 1152\r\n",
            "53   libswiftCore.so                    0x00007f2eb5fe28a6 <unavailable> + 1652902\r\n",
            "54   libswiftPython.so                  0x00007f2eb7da37cb <unavailable> + 79819\r\n",
            "56   repl_swift                         0x0000000000400480 <unavailable> + 1152\r\n",
            "58   libswiftCore.so                    0x00007f2eb5fe28a6 <unavailable> + 1652902\r\n",
            "59   libswiftPython.so                  0x00007f2eb7da37cb <unavailable> + 79819\r\n",
            "61   repl_swift                         0x0000000000400480 <unavailable> + 1152\r\n",
            "63   libswiftCore.so                    0x00007f2eb5fe28a6 <unavailable> + 1652902\r\n",
            "64   libswiftPython.so                  0x00007f2eb7da37cb <unavailable> + 79819\r\n",
            "66   repl_swift                         0x0000000000400480 <unavailable> + 1152\r\n",
            "68   libswiftCore.so                    0x00007f2eb5fe28a6 <unavailable> + 1652902\r\n",
            "69   libswiftPython.so                  0x00007f2eb7da37cb <unavailable> + 79819\r\n",
            "71   repl_swift                         0x0000000000400480 <unavailable> + 1152\r\n"
          ],
          "name": "stdout"
        },
        {
          "output_type": "error",
          "ename": "",
          "evalue": "ignored",
          "traceback": [
            "Current stack trace:",
            "\tframe #3: 0x00007f2e5fe75398 $__lldb_expr115`deep_exponential_family(feature_size=<unavailable>, data_size=<unavailable>, units=<unavailable>, shape=<unavailable>) at <Cell 24>:11:12",
            "\tframe #4: 0x00007f2e5fe7509f $__lldb_expr115`main at <Cell 24>:33:9"
          ]
        }
      ]
    },
    {
      "cell_type": "code",
      "metadata": {
        "id": "SBrfvQwPOnxH",
        "colab_type": "code",
        "outputId": "2438c443-86eb-4f03-ba41-5e3bd616767b",
        "colab": {
          "base_uri": "https://localhost:8080/",
          "height": 102
        }
      },
      "source": [
        "func DEF(data_size: Double, shape: Double ) {\n",
        "  //Matrix multiplication\n",
        "  let z2 = [2, 1]\n",
        "  let w2 = [[1], [2]]\n",
        "\n",
        "  let py_conv = np.matmul(z2, w2);\n",
        "\n",
        "  print(\"pythonObj for Matmul \\(py_conv)\")\n",
        "\n",
        "  let int = Double(py_conv)!\n",
        "  let q1 = np.random.gamma(data_size, shape/int, 2);\n",
        "  \n",
        "\n",
        "  print(\"Random Gamma \\(q1)\")\n",
        "  \n",
        "}\n",
        "\n",
        "let x = DEF(data_size: 10.0 , shape: 10.0)\n",
        "\n",
        "\n",
        "let w2 = np.random.gamma(0.1, 0.3 , [3, 2] )\n",
        "let w1 = np.random.gamma(0.1, 0.3, [units[1], units[0]] )\n",
        "let w0 = np.random.gamma(0.1, 0.3, [ units[0], feature_size])\n",
        "print(\"w2-\\(w2)\")\n"
      ],
      "execution_count": 0,
      "outputs": [
        {
          "output_type": "stream",
          "text": [
            "pythonObj for Matmul [4]\r\n",
            "Random Gamma [21.71431005 17.90879767]\r\n",
            "w2-[[1.02846592e-01 9.61740532e-09]\r\n",
            " [4.43090982e-03 8.46817833e-08]\r\n",
            " [3.80765562e-03 2.29253926e-01]]\r\n"
          ],
          "name": "stdout"
        }
      ]
    },
    {
      "cell_type": "code",
      "metadata": {
        "id": "I0msfJ-mVTnp",
        "colab_type": "code",
        "colab": {}
      },
      "source": [
        ""
      ],
      "execution_count": 0,
      "outputs": []
    }
  ]
}